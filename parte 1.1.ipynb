{
 "cells": [
  {
   "cell_type": "code",
   "execution_count": 1,
   "id": "ad91cb5c",
   "metadata": {},
   "outputs": [],
   "source": [
    "import pandas as pd\n",
    "import numpy as np\n",
    "import seaborn as sns\n",
    "import matplotlib.pyplot as plt\n",
    "from sklearn.linear_model import LinearRegression"
   ]
  },
  {
   "cell_type": "code",
   "execution_count": 2,
   "id": "8f807c99",
   "metadata": {},
   "outputs": [
    {
     "data": {
      "text/html": [
       "<div>\n",
       "<style scoped>\n",
       "    .dataframe tbody tr th:only-of-type {\n",
       "        vertical-align: middle;\n",
       "    }\n",
       "\n",
       "    .dataframe tbody tr th {\n",
       "        vertical-align: top;\n",
       "    }\n",
       "\n",
       "    .dataframe thead th {\n",
       "        text-align: right;\n",
       "    }\n",
       "</style>\n",
       "<table border=\"1\" class=\"dataframe\">\n",
       "  <thead>\n",
       "    <tr style=\"text-align: right;\">\n",
       "      <th></th>\n",
       "      <th>ID</th>\n",
       "      <th>Data Criação</th>\n",
       "      <th>Status</th>\n",
       "      <th>Proprietário</th>\n",
       "      <th>Data Fechamento</th>\n",
       "      <th>Atividades Concluídas</th>\n",
       "    </tr>\n",
       "  </thead>\n",
       "  <tbody>\n",
       "    <tr>\n",
       "      <th>0</th>\n",
       "      <td>5049</td>\n",
       "      <td>2017-07-01</td>\n",
       "      <td>Perdido</td>\n",
       "      <td>Daniela Klipp Mannelli</td>\n",
       "      <td>2017-07-24</td>\n",
       "      <td>0</td>\n",
       "    </tr>\n",
       "    <tr>\n",
       "      <th>1</th>\n",
       "      <td>10652</td>\n",
       "      <td>2017-12-15</td>\n",
       "      <td>Perdido</td>\n",
       "      <td>Gabriel Brandt</td>\n",
       "      <td>2017-12-16</td>\n",
       "      <td>0</td>\n",
       "    </tr>\n",
       "    <tr>\n",
       "      <th>2</th>\n",
       "      <td>70850</td>\n",
       "      <td>2019-10-31</td>\n",
       "      <td>Ganho</td>\n",
       "      <td>Vinicius Furlan</td>\n",
       "      <td>2019-10-31</td>\n",
       "      <td>0</td>\n",
       "    </tr>\n",
       "    <tr>\n",
       "      <th>3</th>\n",
       "      <td>70851</td>\n",
       "      <td>2019-10-31</td>\n",
       "      <td>Ganho</td>\n",
       "      <td>Vinicius Furlan</td>\n",
       "      <td>2019-10-31</td>\n",
       "      <td>0</td>\n",
       "    </tr>\n",
       "    <tr>\n",
       "      <th>4</th>\n",
       "      <td>34</td>\n",
       "      <td>2017-02-17</td>\n",
       "      <td>Perdido</td>\n",
       "      <td>Fernanda Sawczyn</td>\n",
       "      <td>2017-05-11</td>\n",
       "      <td>2</td>\n",
       "    </tr>\n",
       "  </tbody>\n",
       "</table>\n",
       "</div>"
      ],
      "text/plain": [
       "      ID Data Criação   Status            Proprietário Data Fechamento  \\\n",
       "0   5049   2017-07-01  Perdido  Daniela Klipp Mannelli      2017-07-24   \n",
       "1  10652   2017-12-15  Perdido          Gabriel Brandt      2017-12-16   \n",
       "2  70850   2019-10-31    Ganho         Vinicius Furlan      2019-10-31   \n",
       "3  70851   2019-10-31    Ganho         Vinicius Furlan      2019-10-31   \n",
       "4     34   2017-02-17  Perdido        Fernanda Sawczyn      2017-05-11   \n",
       "\n",
       "   Atividades Concluídas  \n",
       "0                      0  \n",
       "1                      0  \n",
       "2                      0  \n",
       "3                      0  \n",
       "4                      2  "
      ]
     },
     "execution_count": 2,
     "metadata": {},
     "output_type": "execute_result"
    }
   ],
   "source": [
    "df = pd.read_excel('data.xlsx')\n",
    "df.head()"
   ]
  },
  {
   "cell_type": "code",
   "execution_count": 3,
   "id": "fd7021f9",
   "metadata": {},
   "outputs": [
    {
     "data": {
      "text/html": [
       "<div>\n",
       "<style scoped>\n",
       "    .dataframe tbody tr th:only-of-type {\n",
       "        vertical-align: middle;\n",
       "    }\n",
       "\n",
       "    .dataframe tbody tr th {\n",
       "        vertical-align: top;\n",
       "    }\n",
       "\n",
       "    .dataframe thead th {\n",
       "        text-align: right;\n",
       "    }\n",
       "</style>\n",
       "<table border=\"1\" class=\"dataframe\">\n",
       "  <thead>\n",
       "    <tr style=\"text-align: right;\">\n",
       "      <th></th>\n",
       "      <th>ID</th>\n",
       "      <th>Data Criação</th>\n",
       "      <th>Status</th>\n",
       "      <th>Proprietário</th>\n",
       "      <th>Data Fechamento</th>\n",
       "      <th>Atividades Concluídas</th>\n",
       "    </tr>\n",
       "  </thead>\n",
       "  <tbody>\n",
       "    <tr>\n",
       "      <th>41102</th>\n",
       "      <td>101836</td>\n",
       "      <td>2020-05-21</td>\n",
       "      <td>Em aberto</td>\n",
       "      <td>Anderson Azevedo</td>\n",
       "      <td>NaT</td>\n",
       "      <td>0</td>\n",
       "    </tr>\n",
       "    <tr>\n",
       "      <th>41103</th>\n",
       "      <td>101839</td>\n",
       "      <td>2020-05-21</td>\n",
       "      <td>Em aberto</td>\n",
       "      <td>Anderson Azevedo</td>\n",
       "      <td>NaT</td>\n",
       "      <td>0</td>\n",
       "    </tr>\n",
       "    <tr>\n",
       "      <th>41104</th>\n",
       "      <td>101842</td>\n",
       "      <td>2020-05-21</td>\n",
       "      <td>Em aberto</td>\n",
       "      <td>Hendrik Machado</td>\n",
       "      <td>NaT</td>\n",
       "      <td>0</td>\n",
       "    </tr>\n",
       "    <tr>\n",
       "      <th>41105</th>\n",
       "      <td>101844</td>\n",
       "      <td>2020-05-21</td>\n",
       "      <td>Em aberto</td>\n",
       "      <td>Maic Freitas</td>\n",
       "      <td>NaT</td>\n",
       "      <td>0</td>\n",
       "    </tr>\n",
       "    <tr>\n",
       "      <th>41106</th>\n",
       "      <td>101845</td>\n",
       "      <td>2020-05-21</td>\n",
       "      <td>Em aberto</td>\n",
       "      <td>Gustavo Camargo</td>\n",
       "      <td>NaT</td>\n",
       "      <td>0</td>\n",
       "    </tr>\n",
       "  </tbody>\n",
       "</table>\n",
       "</div>"
      ],
      "text/plain": [
       "           ID Data Criação     Status      Proprietário Data Fechamento  \\\n",
       "41102  101836   2020-05-21  Em aberto  Anderson Azevedo             NaT   \n",
       "41103  101839   2020-05-21  Em aberto  Anderson Azevedo             NaT   \n",
       "41104  101842   2020-05-21  Em aberto   Hendrik Machado             NaT   \n",
       "41105  101844   2020-05-21  Em aberto      Maic Freitas             NaT   \n",
       "41106  101845   2020-05-21  Em aberto   Gustavo Camargo             NaT   \n",
       "\n",
       "       Atividades Concluídas  \n",
       "41102                      0  \n",
       "41103                      0  \n",
       "41104                      0  \n",
       "41105                      0  \n",
       "41106                      0  "
      ]
     },
     "execution_count": 3,
     "metadata": {},
     "output_type": "execute_result"
    }
   ],
   "source": [
    "df.tail()"
   ]
  },
  {
   "cell_type": "code",
   "execution_count": 4,
   "id": "504ba780",
   "metadata": {},
   "outputs": [
    {
     "data": {
      "text/plain": [
       "(41107, 6)"
      ]
     },
     "execution_count": 4,
     "metadata": {},
     "output_type": "execute_result"
    }
   ],
   "source": [
    "df.shape"
   ]
  },
  {
   "cell_type": "markdown",
   "id": "0a568885",
   "metadata": {},
   "source": [
    "### 1 - Qual a conversão de vendas no mês de abr/2020?(Para a conversão considere os negócios com status \"Ganho\"/total de negócios)\t\t\t\t\t\t\t\t\t\t\t\t\t\n"
   ]
  },
  {
   "cell_type": "code",
   "execution_count": 5,
   "id": "61312fcc",
   "metadata": {},
   "outputs": [
    {
     "data": {
      "text/html": [
       "<div>\n",
       "<style scoped>\n",
       "    .dataframe tbody tr th:only-of-type {\n",
       "        vertical-align: middle;\n",
       "    }\n",
       "\n",
       "    .dataframe tbody tr th {\n",
       "        vertical-align: top;\n",
       "    }\n",
       "\n",
       "    .dataframe thead th {\n",
       "        text-align: right;\n",
       "    }\n",
       "</style>\n",
       "<table border=\"1\" class=\"dataframe\">\n",
       "  <thead>\n",
       "    <tr style=\"text-align: right;\">\n",
       "      <th></th>\n",
       "      <th>Status</th>\n",
       "      <th>ID</th>\n",
       "    </tr>\n",
       "  </thead>\n",
       "  <tbody>\n",
       "    <tr>\n",
       "      <th>0</th>\n",
       "      <td>Ganho</td>\n",
       "      <td>178</td>\n",
       "    </tr>\n",
       "  </tbody>\n",
       "</table>\n",
       "</div>"
      ],
      "text/plain": [
       "  Status   ID\n",
       "0  Ganho  178"
      ]
     },
     "execution_count": 5,
     "metadata": {},
     "output_type": "execute_result"
    }
   ],
   "source": [
    "df['Data Fechamento'] = pd.to_datetime(df['Data Fechamento']) \n",
    "mask = (df['Data Fechamento'] >= '2020-4-1') & (df['Data Fechamento'] <= '2020-4-30')\n",
    "subset=df.loc[mask]\n",
    "subset=subset[subset['Status']=='Ganho'].groupby('Status').count().reset_index()\n",
    "subset[['Status','ID']]"
   ]
  },
  {
   "cell_type": "markdown",
   "id": "f57db651",
   "metadata": {},
   "source": [
    "### 2 - Em qual mês de 2019 houve o maior número de negócios perdidos?\t\t\t\t\t\t\t\t\t\t\t\t\t\n",
    "\t\t\t\t\t\t\t\t\t\t\t\t\t"
   ]
  },
  {
   "cell_type": "code",
   "execution_count": 6,
   "id": "37417452-196d-49cf-bc60-e19569331c03",
   "metadata": {},
   "outputs": [
    {
     "data": {
      "text/html": [
       "<div>\n",
       "<style scoped>\n",
       "    .dataframe tbody tr th:only-of-type {\n",
       "        vertical-align: middle;\n",
       "    }\n",
       "\n",
       "    .dataframe tbody tr th {\n",
       "        vertical-align: top;\n",
       "    }\n",
       "\n",
       "    .dataframe thead th {\n",
       "        text-align: right;\n",
       "    }\n",
       "</style>\n",
       "<table border=\"1\" class=\"dataframe\">\n",
       "  <thead>\n",
       "    <tr style=\"text-align: right;\">\n",
       "      <th></th>\n",
       "      <th>Data Fechamento</th>\n",
       "      <th>ID</th>\n",
       "    </tr>\n",
       "  </thead>\n",
       "  <tbody>\n",
       "    <tr>\n",
       "      <th>3</th>\n",
       "      <td>2019-04-30</td>\n",
       "      <td>1903</td>\n",
       "    </tr>\n",
       "  </tbody>\n",
       "</table>\n",
       "</div>"
      ],
      "text/plain": [
       "  Data Fechamento    ID\n",
       "3      2019-04-30  1903"
      ]
     },
     "execution_count": 6,
     "metadata": {},
     "output_type": "execute_result"
    }
   ],
   "source": [
    "mask = (df['Data Fechamento'] >= '2019-1-1') & (df['Data Fechamento'] <= '2020-12-31')\n",
    "subset2=df.loc[mask]\n",
    "subset2=subset2[subset2['Status']=='Perdido']\n",
    "subset2=subset2.groupby(pd.Grouper(key='Data Fechamento',freq='M')).count().reset_index()\n",
    "subset2=subset2.drop(columns=['Atividades Concluídas','Status','Data Criação','Proprietário']).sort_values(by='ID')\n",
    "subset2.tail(1)\n",
    "#subset2['Mês'] = subset2['Data Fechamento'].dt.month \n",
    "#subset2[['Mês','ID']]"
   ]
  },
  {
   "cell_type": "markdown",
   "id": "78af0b05",
   "metadata": {},
   "source": [
    "### 3 - Crie um gráfico com o total de vendas(negócios com status \"Ganho\") mensal dos anos 2019 e 2020, com uma linha de tendência linear.\t\t\t\t\t\t\t\t\t\t\t\t\t\n"
   ]
  },
  {
   "cell_type": "code",
   "execution_count": 7,
   "id": "e3546dfe-f64b-417d-88e2-5254b07a62fb",
   "metadata": {},
   "outputs": [
    {
     "data": {
      "image/png": "[encoded data removed]",
      "text/plain": [
       "<Figure size 864x864 with 1 Axes>"
      ]
     },
     "metadata": {
      "needs_background": "light"
     },
     "output_type": "display_data"
    }
   ],
   "source": [
    "mask = (df['Data Fechamento'] >= '2019-1-1') & (df['Data Fechamento'] <= '2020-12-31')\n",
    "subset3=df.loc[mask]\n",
    "subset3=subset3[subset3['Status']=='Ganho']\n",
    "subset3=subset3.groupby(pd.Grouper(key='Data Fechamento',freq='1w')).count().reset_index()\n",
    "subset3.rename(columns = {'Status':'Vendas'}, inplace = True)\n",
    "\n",
    "X=np.arange(1,len(subset3.index)+1)\n",
    "X=X.reshape(len(X),1)\n",
    "regressor=LinearRegression()\n",
    "regressor.fit(X,subset3[['Vendas']])\n",
    "y_pred = regressor.predict(X)\n",
    "\n",
    "plt.figure(figsize=(12 ,12))\n",
    "plt.scatter(subset3[['Data Fechamento']], subset3[['Vendas']], color = 'red')\n",
    "plt.plot(subset3[['Data Fechamento']], y_pred, color = 'blue')\n",
    "plt.xlabel('Data Fechamento')\n",
    "plt.ylabel('Vendas')\n",
    "plt.show()"
   ]
  },
  {
   "cell_type": "markdown",
   "id": "d4cb01fd",
   "metadata": {},
   "source": [
    "### 4 - Em qual dia da semana ocorreu o maior número de vendas no mês de fev/2020?\t\t\t\t\t\t\t\t\t\t\t\t\t\n"
   ]
  },
  {
   "cell_type": "code",
   "execution_count": 8,
   "id": "812f05c8-cc6d-413b-814d-37c4fbfb51d1",
   "metadata": {},
   "outputs": [
    {
     "data": {
      "text/html": [
       "<div>\n",
       "<style scoped>\n",
       "    .dataframe tbody tr th:only-of-type {\n",
       "        vertical-align: middle;\n",
       "    }\n",
       "\n",
       "    .dataframe tbody tr th {\n",
       "        vertical-align: top;\n",
       "    }\n",
       "\n",
       "    .dataframe thead th {\n",
       "        text-align: right;\n",
       "    }\n",
       "</style>\n",
       "<table border=\"1\" class=\"dataframe\">\n",
       "  <thead>\n",
       "    <tr style=\"text-align: right;\">\n",
       "      <th></th>\n",
       "      <th>Data Fechamento</th>\n",
       "      <th>ID</th>\n",
       "    </tr>\n",
       "  </thead>\n",
       "  <tbody>\n",
       "    <tr>\n",
       "      <th>27</th>\n",
       "      <td>2020-02-28</td>\n",
       "      <td>66</td>\n",
       "    </tr>\n",
       "  </tbody>\n",
       "</table>\n",
       "</div>"
      ],
      "text/plain": [
       "   Data Fechamento  ID\n",
       "27      2020-02-28  66"
      ]
     },
     "execution_count": 8,
     "metadata": {},
     "output_type": "execute_result"
    }
   ],
   "source": [
    "mask = (df['Data Fechamento'] >= '2020-2-1') & (df['Data Fechamento'] <= '2020-2-28')\n",
    "subset4=df.loc[mask]\n",
    "subset4=subset4[subset4['Status']=='Ganho']\n",
    "subset4=subset4.groupby(pd.Grouper(key='Data Fechamento',freq='1d')).count().reset_index()\n",
    "subset4=subset4[['Data Fechamento','ID']].nlargest(1,['ID'])\n",
    "subset4"
   ]
  },
  {
   "cell_type": "code",
   "execution_count": 9,
   "id": "147f984d",
   "metadata": {},
   "outputs": [
    {
     "data": {
      "text/html": [
       "<div>\n",
       "<style scoped>\n",
       "    .dataframe tbody tr th:only-of-type {\n",
       "        vertical-align: middle;\n",
       "    }\n",
       "\n",
       "    .dataframe tbody tr th {\n",
       "        vertical-align: top;\n",
       "    }\n",
       "\n",
       "    .dataframe thead th {\n",
       "        text-align: right;\n",
       "    }\n",
       "</style>\n",
       "<table border=\"1\" class=\"dataframe\">\n",
       "  <thead>\n",
       "    <tr style=\"text-align: right;\">\n",
       "      <th></th>\n",
       "      <th>Data Fechamento</th>\n",
       "      <th>ID</th>\n",
       "    </tr>\n",
       "  </thead>\n",
       "  <tbody>\n",
       "    <tr>\n",
       "      <th>27</th>\n",
       "      <td>Friday</td>\n",
       "      <td>66</td>\n",
       "    </tr>\n",
       "  </tbody>\n",
       "</table>\n",
       "</div>"
      ],
      "text/plain": [
       "   Data Fechamento  ID\n",
       "27          Friday  66"
      ]
     },
     "execution_count": 9,
     "metadata": {},
     "output_type": "execute_result"
    }
   ],
   "source": [
    "subset4['Data Fechamento']=subset4['Data Fechamento'].dt.day_name()\n",
    "subset4"
   ]
  },
  {
   "cell_type": "markdown",
   "id": "20486f0b",
   "metadata": {},
   "source": [
    "### 5 - Qual o tempo médio em dias do fechamento dos negócios em jan/2020?\t\t\t\t\t\t\t\t\t\t\t\t\t"
   ]
  },
  {
   "cell_type": "code",
   "execution_count": 10,
   "id": "824e9a78-fb93-4c91-9c5d-026535c5a734",
   "metadata": {},
   "outputs": [
    {
     "data": {
      "text/plain": [
       "0.0502092050209205"
      ]
     },
     "execution_count": 10,
     "metadata": {},
     "output_type": "execute_result"
    }
   ],
   "source": [
    "mask = (df['Data Fechamento'] >= '2020-1-1') & (df['Data Fechamento'] <= '2020-1-31') & ((df['Status'] == 'Ganho') | (df['Status'] == 'Perdido'))\n",
    "subset5=df.loc[mask].sort_values(by='Data Fechamento').reset_index()\n",
    "totalFechamentos=len(subset5.index)\n",
    "nroDias=len(subset5['Data Fechamento'].unique())\n",
    "mediaFechamento=nroDias/totalFechamentos\n",
    "mediaFechamento\n",
    "#sumnegocios=subset5['Status'].str.contains(['Ganho', 'Perdido'])\n"
   ]
  },
  {
   "cell_type": "code",
   "execution_count": 11,
   "id": "b02379f2",
   "metadata": {},
   "outputs": [
    {
     "data": {
      "text/plain": [
       "24"
      ]
     },
     "execution_count": 11,
     "metadata": {},
     "output_type": "execute_result"
    }
   ],
   "source": [
    "nroDias"
   ]
  },
  {
   "cell_type": "code",
   "execution_count": 12,
   "id": "d7c4a166",
   "metadata": {},
   "outputs": [
    {
     "data": {
      "text/plain": [
       "478"
      ]
     },
     "execution_count": 12,
     "metadata": {},
     "output_type": "execute_result"
    }
   ],
   "source": [
    "totalFechamentos"
   ]
  },
  {
   "cell_type": "code",
   "execution_count": 13,
   "id": "8e120afa",
   "metadata": {},
   "outputs": [],
   "source": [
    "subset5=subset5.groupby('Data Fechamento').count().reset_index()\n",
    "subset5['cum_sum'] = subset5['ID'].cumsum()"
   ]
  },
  {
   "cell_type": "code",
   "execution_count": 14,
   "id": "a8b695c4",
   "metadata": {},
   "outputs": [
    {
     "data": {
      "text/plain": [
       "<AxesSubplot:xlabel='Data Fechamento'>"
      ]
     },
     "execution_count": 14,
     "metadata": {},
     "output_type": "execute_result"
    },
    {
     "data": {
      "image/png": "[encoded data removed]",
      "text/plain": [
       "<Figure size 432x288 with 1 Axes>"
      ]
     },
     "metadata": {
      "needs_background": "light"
     },
     "output_type": "display_data"
    }
   ],
   "source": [
    "## Moving Average\n",
    "subset5['count'] = np.arange(1,nroDias+1)\n",
    "subset5['Tempo médio em Dias']=subset5['count']/subset5['cum_sum']\n",
    "subset5[['Data Fechamento','Tempo médio em Dias']].plot(x='Data Fechamento',y='Tempo médio em Dias')"
   ]
  },
  {
   "cell_type": "markdown",
   "id": "773208cd",
   "metadata": {},
   "source": [
    "### 6 - Qual proprietário possui a maior média de atividades concluídas em 2019?(Considere proprietários com mais de 40 negócios)\t\t\t\t\t\t\t\t\t\t\t\t\t\n"
   ]
  },
  {
   "cell_type": "code",
   "execution_count": 15,
   "id": "9af0f61f",
   "metadata": {},
   "outputs": [
    {
     "name": "stderr",
     "output_type": "stream",
     "text": [
      "C:\\Users\\Lunarti\\AppData\\Local\\Temp/ipykernel_12844/3575594529.py:3: SettingWithCopyWarning: \n",
      "A value is trying to be set on a copy of a slice from a DataFrame.\n",
      "Try using .loc[row_indexer,col_indexer] = value instead\n",
      "\n",
      "See the caveats in the documentation: https://pandas.pydata.org/pandas-docs/stable/user_guide/indexing.html#returning-a-view-versus-a-copy\n",
      "  subset6['Status']=np.ones(len(subset6.index))\n"
     ]
    },
    {
     "data": {
      "text/html": [
       "<div>\n",
       "<style scoped>\n",
       "    .dataframe tbody tr th:only-of-type {\n",
       "        vertical-align: middle;\n",
       "    }\n",
       "\n",
       "    .dataframe tbody tr th {\n",
       "        vertical-align: top;\n",
       "    }\n",
       "\n",
       "    .dataframe thead th {\n",
       "        text-align: right;\n",
       "    }\n",
       "</style>\n",
       "<table border=\"1\" class=\"dataframe\">\n",
       "  <thead>\n",
       "    <tr style=\"text-align: right;\">\n",
       "      <th></th>\n",
       "      <th>Proprietário</th>\n",
       "      <th>Status</th>\n",
       "      <th>Atividades Concluídas</th>\n",
       "      <th>Media</th>\n",
       "    </tr>\n",
       "  </thead>\n",
       "  <tbody>\n",
       "    <tr>\n",
       "      <th>20</th>\n",
       "      <td>Rafael Fontana</td>\n",
       "      <td>53.0</td>\n",
       "      <td>559</td>\n",
       "      <td>10.547170</td>\n",
       "    </tr>\n",
       "    <tr>\n",
       "      <th>16</th>\n",
       "      <td>Maic Freitas</td>\n",
       "      <td>60.0</td>\n",
       "      <td>511</td>\n",
       "      <td>8.516667</td>\n",
       "    </tr>\n",
       "    <tr>\n",
       "      <th>17</th>\n",
       "      <td>Michel Vidal</td>\n",
       "      <td>49.0</td>\n",
       "      <td>393</td>\n",
       "      <td>8.020408</td>\n",
       "    </tr>\n",
       "  </tbody>\n",
       "</table>\n",
       "</div>"
      ],
      "text/plain": [
       "      Proprietário  Status  Atividades Concluídas      Media\n",
       "20  Rafael Fontana    53.0                    559  10.547170\n",
       "16    Maic Freitas    60.0                    511   8.516667\n",
       "17    Michel Vidal    49.0                    393   8.020408"
      ]
     },
     "execution_count": 15,
     "metadata": {},
     "output_type": "execute_result"
    }
   ],
   "source": [
    "mask = (df['Data Fechamento'] >= '2019-1-1') & (df['Data Fechamento'] <= '2019-12-31') \n",
    "subset6=df.loc[mask]\n",
    "subset6['Status']=np.ones(len(subset6.index))\n",
    "subset6=subset6.groupby('Proprietário').sum().reset_index().drop(columns='ID')\n",
    "subset6=subset6[subset6['Status']>40]\n",
    "subset6['Media']=subset6['Atividades Concluídas']/subset6['Status']\n",
    "subset6.nlargest(n=3 ,columns = 'Media')\n"
   ]
  },
  {
   "cell_type": "markdown",
   "id": "68d79e86",
   "metadata": {},
   "source": [
    "### 7 - Crie uma análise estatística da base de dados no ano de 2020 com abertura por mês (Utilize médias, correlação, quartil e mais funções que julgar relevantes)\t\t\t\t\t\t\t\t\t\t"
   ]
  },
  {
   "cell_type": "code",
   "execution_count": 16,
   "id": "39648934",
   "metadata": {},
   "outputs": [
    {
     "data": {
      "text/html": [
       "<div>\n",
       "<style scoped>\n",
       "    .dataframe tbody tr th:only-of-type {\n",
       "        vertical-align: middle;\n",
       "    }\n",
       "\n",
       "    .dataframe tbody tr th {\n",
       "        vertical-align: top;\n",
       "    }\n",
       "\n",
       "    .dataframe thead th {\n",
       "        text-align: right;\n",
       "    }\n",
       "</style>\n",
       "<table border=\"1\" class=\"dataframe\">\n",
       "  <thead>\n",
       "    <tr style=\"text-align: right;\">\n",
       "      <th></th>\n",
       "      <th>ID</th>\n",
       "      <th>Atividades Concluídas</th>\n",
       "    </tr>\n",
       "  </thead>\n",
       "  <tbody>\n",
       "    <tr>\n",
       "      <th>count</th>\n",
       "      <td>1503.000000</td>\n",
       "      <td>1503.000000</td>\n",
       "    </tr>\n",
       "    <tr>\n",
       "      <th>mean</th>\n",
       "      <td>97806.805722</td>\n",
       "      <td>4.328011</td>\n",
       "    </tr>\n",
       "    <tr>\n",
       "      <th>std</th>\n",
       "      <td>4232.590544</td>\n",
       "      <td>4.591088</td>\n",
       "    </tr>\n",
       "    <tr>\n",
       "      <th>min</th>\n",
       "      <td>82197.000000</td>\n",
       "      <td>0.000000</td>\n",
       "    </tr>\n",
       "    <tr>\n",
       "      <th>25%</th>\n",
       "      <td>94999.500000</td>\n",
       "      <td>1.000000</td>\n",
       "    </tr>\n",
       "    <tr>\n",
       "      <th>50%</th>\n",
       "      <td>99594.000000</td>\n",
       "      <td>3.000000</td>\n",
       "    </tr>\n",
       "    <tr>\n",
       "      <th>75%</th>\n",
       "      <td>100908.500000</td>\n",
       "      <td>6.000000</td>\n",
       "    </tr>\n",
       "    <tr>\n",
       "      <th>max</th>\n",
       "      <td>101845.000000</td>\n",
       "      <td>46.000000</td>\n",
       "    </tr>\n",
       "  </tbody>\n",
       "</table>\n",
       "</div>"
      ],
      "text/plain": [
       "                  ID  Atividades Concluídas\n",
       "count    1503.000000            1503.000000\n",
       "mean    97806.805722               4.328011\n",
       "std      4232.590544               4.591088\n",
       "min     82197.000000               0.000000\n",
       "25%     94999.500000               1.000000\n",
       "50%     99594.000000               3.000000\n",
       "75%    100908.500000               6.000000\n",
       "max    101845.000000              46.000000"
      ]
     },
     "execution_count": 16,
     "metadata": {},
     "output_type": "execute_result"
    }
   ],
   "source": [
    "mask = (df['Data Criação'] >= '2020-1-1') & (df['Data Criação'] <= '2020-12-31') & (df['Status'] == 'Em aberto')\n",
    "subset7=df.loc[mask]\n",
    "#subset7=subset7.drop(columns=['ID','Data Fechamento']).sort_values(by='Data Criação')\n",
    "subset7.describe()"
   ]
  },
  {
   "cell_type": "code",
   "execution_count": 17,
   "id": "c244a304",
   "metadata": {},
   "outputs": [
    {
     "name": "stderr",
     "output_type": "stream",
     "text": [
      "C:\\Users\\Lunarti\\anaconda3\\lib\\site-packages\\seaborn\\_decorators.py:36: FutureWarning: Pass the following variable as a keyword arg: x. From version 0.12, the only valid positional argument will be `data`, and passing other arguments without an explicit keyword will result in an error or misinterpretation.\n",
      "  warnings.warn(\n"
     ]
    },
    {
     "data": {
      "text/plain": [
       "<AxesSubplot:xlabel='Status'>"
      ]
     },
     "execution_count": 17,
     "metadata": {},
     "output_type": "execute_result"
    },
    {
     "data": {
      "image/png": "[encoded data removed]",
      "text/plain": [
       "<Figure size 432x288 with 1 Axes>"
      ]
     },
     "metadata": {
      "needs_background": "light"
     },
     "output_type": "display_data"
    }
   ],
   "source": [
    "countbyProprietario=subset7.groupby('Proprietário').count().reset_index()\n",
    "sns.boxplot(countbyProprietario['Status'])"
   ]
  },
  {
   "cell_type": "code",
   "execution_count": 18,
   "id": "655e6014",
   "metadata": {},
   "outputs": [
    {
     "data": {
      "text/plain": [
       "<AxesSubplot:xlabel='Status', ylabel='Count'>"
      ]
     },
     "execution_count": 18,
     "metadata": {},
     "output_type": "execute_result"
    },
    {
     "data": {
      "image/png": "[encoded data removed]",
      "text/plain": [
       "<Figure size 432x288 with 1 Axes>"
      ]
     },
     "metadata": {
      "needs_background": "light"
     },
     "output_type": "display_data"
    }
   ],
   "source": [
    "sns.histplot(countbyProprietario['Status'], kde=True)"
   ]
  },
  {
   "cell_type": "code",
   "execution_count": 19,
   "id": "55602be7",
   "metadata": {},
   "outputs": [
    {
     "data": {
      "text/html": [
       "<div>\n",
       "<style scoped>\n",
       "    .dataframe tbody tr th:only-of-type {\n",
       "        vertical-align: middle;\n",
       "    }\n",
       "\n",
       "    .dataframe tbody tr th {\n",
       "        vertical-align: top;\n",
       "    }\n",
       "\n",
       "    .dataframe thead th {\n",
       "        text-align: right;\n",
       "    }\n",
       "</style>\n",
       "<table border=\"1\" class=\"dataframe\">\n",
       "  <thead>\n",
       "    <tr style=\"text-align: right;\">\n",
       "      <th></th>\n",
       "      <th>ID</th>\n",
       "      <th>Data Criação</th>\n",
       "      <th>Status</th>\n",
       "      <th>Data Fechamento</th>\n",
       "      <th>Atividades Concluídas</th>\n",
       "    </tr>\n",
       "  </thead>\n",
       "  <tbody>\n",
       "    <tr>\n",
       "      <th>count</th>\n",
       "      <td>20.000000</td>\n",
       "      <td>20.000000</td>\n",
       "      <td>20.000000</td>\n",
       "      <td>20.0</td>\n",
       "      <td>20.000000</td>\n",
       "    </tr>\n",
       "    <tr>\n",
       "      <th>mean</th>\n",
       "      <td>75.150000</td>\n",
       "      <td>75.150000</td>\n",
       "      <td>75.150000</td>\n",
       "      <td>0.0</td>\n",
       "      <td>75.150000</td>\n",
       "    </tr>\n",
       "    <tr>\n",
       "      <th>std</th>\n",
       "      <td>100.075379</td>\n",
       "      <td>100.075379</td>\n",
       "      <td>100.075379</td>\n",
       "      <td>0.0</td>\n",
       "      <td>100.075379</td>\n",
       "    </tr>\n",
       "    <tr>\n",
       "      <th>min</th>\n",
       "      <td>1.000000</td>\n",
       "      <td>1.000000</td>\n",
       "      <td>1.000000</td>\n",
       "      <td>0.0</td>\n",
       "      <td>1.000000</td>\n",
       "    </tr>\n",
       "    <tr>\n",
       "      <th>25%</th>\n",
       "      <td>2.750000</td>\n",
       "      <td>2.750000</td>\n",
       "      <td>2.750000</td>\n",
       "      <td>0.0</td>\n",
       "      <td>2.750000</td>\n",
       "    </tr>\n",
       "    <tr>\n",
       "      <th>50%</th>\n",
       "      <td>7.500000</td>\n",
       "      <td>7.500000</td>\n",
       "      <td>7.500000</td>\n",
       "      <td>0.0</td>\n",
       "      <td>7.500000</td>\n",
       "    </tr>\n",
       "    <tr>\n",
       "      <th>75%</th>\n",
       "      <td>158.750000</td>\n",
       "      <td>158.750000</td>\n",
       "      <td>158.750000</td>\n",
       "      <td>0.0</td>\n",
       "      <td>158.750000</td>\n",
       "    </tr>\n",
       "    <tr>\n",
       "      <th>max</th>\n",
       "      <td>305.000000</td>\n",
       "      <td>305.000000</td>\n",
       "      <td>305.000000</td>\n",
       "      <td>0.0</td>\n",
       "      <td>305.000000</td>\n",
       "    </tr>\n",
       "  </tbody>\n",
       "</table>\n",
       "</div>"
      ],
      "text/plain": [
       "               ID  Data Criação      Status  Data Fechamento  \\\n",
       "count   20.000000     20.000000   20.000000             20.0   \n",
       "mean    75.150000     75.150000   75.150000              0.0   \n",
       "std    100.075379    100.075379  100.075379              0.0   \n",
       "min      1.000000      1.000000    1.000000              0.0   \n",
       "25%      2.750000      2.750000    2.750000              0.0   \n",
       "50%      7.500000      7.500000    7.500000              0.0   \n",
       "75%    158.750000    158.750000  158.750000              0.0   \n",
       "max    305.000000    305.000000  305.000000              0.0   \n",
       "\n",
       "       Atividades Concluídas  \n",
       "count              20.000000  \n",
       "mean               75.150000  \n",
       "std               100.075379  \n",
       "min                 1.000000  \n",
       "25%                 2.750000  \n",
       "50%                 7.500000  \n",
       "75%               158.750000  \n",
       "max               305.000000  "
      ]
     },
     "execution_count": 19,
     "metadata": {},
     "output_type": "execute_result"
    }
   ],
   "source": [
    "countbyProprietario.describe()"
   ]
  },
  {
   "cell_type": "code",
   "execution_count": 20,
   "id": "62520675",
   "metadata": {},
   "outputs": [
    {
     "name": "stderr",
     "output_type": "stream",
     "text": [
      "C:\\Users\\Lunarti\\anaconda3\\lib\\site-packages\\seaborn\\_decorators.py:36: FutureWarning: Pass the following variable as a keyword arg: x. From version 0.12, the only valid positional argument will be `data`, and passing other arguments without an explicit keyword will result in an error or misinterpretation.\n",
      "  warnings.warn(\n"
     ]
    },
    {
     "data": {
      "text/plain": [
       "<AxesSubplot:xlabel='Atividades Concluídas'>"
      ]
     },
     "execution_count": 20,
     "metadata": {},
     "output_type": "execute_result"
    },
    {
     "data": {
      "image/png": "[encoded data removed]",
      "text/plain": [
       "<Figure size 432x288 with 1 Axes>"
      ]
     },
     "metadata": {
      "needs_background": "light"
     },
     "output_type": "display_data"
    }
   ],
   "source": [
    "sumbyProprietario=subset7.groupby('Proprietário').sum().reset_index()\n",
    "sns.boxplot(sumbyProprietario['Atividades Concluídas'])"
   ]
  },
  {
   "cell_type": "code",
   "execution_count": 21,
   "id": "92479573",
   "metadata": {},
   "outputs": [
    {
     "data": {
      "text/plain": [
       "<AxesSubplot:xlabel='Atividades Concluídas', ylabel='Count'>"
      ]
     },
     "execution_count": 21,
     "metadata": {},
     "output_type": "execute_result"
    },
    {
     "data": {
      "image/png": "[encoded data removed]",
      "text/plain": [
       "<Figure size 432x288 with 1 Axes>"
      ]
     },
     "metadata": {
      "needs_background": "light"
     },
     "output_type": "display_data"
    }
   ],
   "source": [
    "sns.histplot(sumbyProprietario['Atividades Concluídas'], kde=True)"
   ]
  },
  {
   "cell_type": "code",
   "execution_count": 22,
   "id": "4dc112ab",
   "metadata": {},
   "outputs": [
    {
     "ename": "NameError",
     "evalue": "name 'meanbyProprietario' is not defined",
     "output_type": "error",
     "traceback": [
      "\u001b[1;31m---------------------------------------------------------------------------\u001b[0m",
      "\u001b[1;31mNameError\u001b[0m                                 Traceback (most recent call last)",
      "\u001b[1;32m~\\AppData\\Local\\Temp/ipykernel_12844/2330725366.py\u001b[0m in \u001b[0;36m<module>\u001b[1;34m\u001b[0m\n\u001b[0;32m      1\u001b[0m \u001b[0msns\u001b[0m\u001b[1;33m.\u001b[0m\u001b[0mset_theme\u001b[0m\u001b[1;33m(\u001b[0m\u001b[0mstyle\u001b[0m\u001b[1;33m=\u001b[0m\u001b[1;34m\"whitegrid\"\u001b[0m\u001b[1;33m)\u001b[0m\u001b[1;33m\u001b[0m\u001b[1;33m\u001b[0m\u001b[0m\n\u001b[0;32m      2\u001b[0m \u001b[0mplt\u001b[0m\u001b[1;33m.\u001b[0m\u001b[0mfigure\u001b[0m\u001b[1;33m(\u001b[0m\u001b[0mfigsize\u001b[0m\u001b[1;33m=\u001b[0m\u001b[1;33m(\u001b[0m\u001b[1;36m10\u001b[0m\u001b[1;33m,\u001b[0m\u001b[1;36m10\u001b[0m\u001b[1;33m)\u001b[0m\u001b[1;33m)\u001b[0m\u001b[1;33m\u001b[0m\u001b[1;33m\u001b[0m\u001b[0m\n\u001b[1;32m----> 3\u001b[1;33m \u001b[0msns\u001b[0m\u001b[1;33m.\u001b[0m\u001b[0mbarplot\u001b[0m\u001b[1;33m(\u001b[0m\u001b[0mx\u001b[0m\u001b[1;33m=\u001b[0m\u001b[0msumbyProprietario\u001b[0m\u001b[1;33m[\u001b[0m\u001b[1;34m'Atividades Concluídas'\u001b[0m\u001b[1;33m]\u001b[0m\u001b[1;33m,\u001b[0m\u001b[0my\u001b[0m\u001b[1;33m=\u001b[0m\u001b[0mmeanbyProprietario\u001b[0m\u001b[1;33m[\u001b[0m\u001b[1;34m'Proprietário'\u001b[0m\u001b[1;33m]\u001b[0m\u001b[1;33m)\u001b[0m\u001b[1;33m\u001b[0m\u001b[1;33m\u001b[0m\u001b[0m\n\u001b[0m",
      "\u001b[1;31mNameError\u001b[0m: name 'meanbyProprietario' is not defined"
     ]
    },
    {
     "data": {
      "text/plain": [
       "<Figure size 720x720 with 0 Axes>"
      ]
     },
     "metadata": {},
     "output_type": "display_data"
    }
   ],
   "source": [
    "sns.set_theme(style=\"whitegrid\")\n",
    "plt.figure(figsize=(10,10))\n",
    "sns.barplot(x=sumbyProprietario['Atividades Concluídas'],y=meanbyProprietario['Proprietário'])"
   ]
  },
  {
   "cell_type": "code",
   "execution_count": null,
   "id": "3eb32a1c",
   "metadata": {},
   "outputs": [],
   "source": [
    "meanbyProprietario=subset7.groupby('Proprietário').mean().reset_index()\n",
    "sns.boxplot(meanbyProprietario['Atividades Concluídas'])"
   ]
  },
  {
   "cell_type": "code",
   "execution_count": null,
   "id": "b8fce02e",
   "metadata": {},
   "outputs": [],
   "source": [
    "sns.histplot(meanbyProprietario['Atividades Concluídas'], kde=True)"
   ]
  },
  {
   "cell_type": "code",
   "execution_count": null,
   "id": "1979208d",
   "metadata": {},
   "outputs": [],
   "source": [
    "plt.figure(figsize=(10,10))\n",
    "sns.set_theme(style=\"whitegrid\")\n",
    "sns.barplot(x=meanbyProprietario['Atividades Concluídas'],y=meanbyProprietario['Proprietário'])"
   ]
  },
  {
   "cell_type": "code",
   "execution_count": null,
   "id": "99ce4dde",
   "metadata": {},
   "outputs": [],
   "source": [
    "CountMeanCorr=pd.DataFrame()\n",
    "CountMeanCorr['Count']=countbyProprietario['Status']\n",
    "CountMeanCorr['Mean']=meanbyProprietario['Atividades Concluídas']\n",
    "CountMeanCorr.corr()"
   ]
  },
  {
   "cell_type": "code",
   "execution_count": null,
   "id": "dfe1d4e7",
   "metadata": {},
   "outputs": [],
   "source": [
    "# Média de Atividades Concluídas por Mês\n",
    "MeanByMonth=subset7.groupby(pd.Grouper(key='Data Criação',freq='1m')).mean().reset_index()\n",
    "plt.figure(figsize=(12,4))\n",
    "MeanByMonth['Atividades Concluídas'].plot.line()\n"
   ]
  },
  {
   "cell_type": "code",
   "execution_count": null,
   "id": "27275189",
   "metadata": {},
   "outputs": [],
   "source": [
    "# Total de negócios abertos por Mês\n",
    "CountByMonth=subset7.groupby(pd.Grouper(key='Data Criação',freq='1M')).count().reset_index()\n",
    "plt.figure(figsize=(12,4))\n",
    "CountByMonth['Status'].plot.line()"
   ]
  },
  {
   "cell_type": "code",
   "execution_count": null,
   "id": "2a527cc7",
   "metadata": {},
   "outputs": [],
   "source": [
    "# Correlação entre média de atividades concluídas por mês e total de negócios abertos por mês\n",
    "CountMeanCorr=pd.DataFrame()\n",
    "CountMeanCorr['Count']=CountByMonth['Status']\n",
    "CountMeanCorr['Mean']=MeanByMonth['Atividades Concluídas']\n",
    "CountMeanCorr.corr()"
   ]
  },
  {
   "cell_type": "markdown",
   "id": "3a65ded8",
   "metadata": {},
   "source": [
    "### 8 - Analisando o evolutivo mensal dos negócios do período entre jan/19 e jul/19, qual o índice de correlação apresentado entre o total de negócios e o total de negócios perdidos? A partir desse índice é possível afirmar que há uma relação entre esses dois indicadores? Justifique.\t\t"
   ]
  },
  {
   "cell_type": "code",
   "execution_count": null,
   "id": "f8c89c95",
   "metadata": {},
   "outputs": [],
   "source": [
    "mask = (df['Data Fechamento'] >= '2019-1-1') & (df['Data Fechamento'] <= '2019-07-31')\n",
    "subset8=df.loc[mask]"
   ]
  },
  {
   "cell_type": "code",
   "execution_count": null,
   "id": "5078b978",
   "metadata": {},
   "outputs": [],
   "source": [
    "mask2 = (subset8['Status'] == 'Ganho')\n",
    "ganhos=subset8.loc[mask2].groupby(pd.Grouper(key='Data Fechamento',freq='1M')).count()\n",
    "plt.figure(figsize=(12,4))\n",
    "ganhos['Status'].plot.line()"
   ]
  },
  {
   "cell_type": "code",
   "execution_count": null,
   "id": "bb0c86f5",
   "metadata": {},
   "outputs": [],
   "source": [
    "mask3 = (subset8['Status'] == 'Perdido')\n",
    "perdidos=subset8.loc[mask3].groupby(pd.Grouper(key='Data Fechamento',freq='1M')).count()\n",
    "plt.figure(figsize=(12,4))\n",
    "perdidos['Status'].plot.line()"
   ]
  },
  {
   "cell_type": "code",
   "execution_count": null,
   "id": "8b28804c",
   "metadata": {},
   "outputs": [],
   "source": [
    "ganhoseperdidos=pd.DataFrame()\n",
    "ganhoseperdidos['Perdidos']=perdidos['Status']\n",
    "ganhoseperdidos['Ganhos']=ganhos['Status']\n",
    "ganhoseperdidos.corr()"
   ]
  },
  {
   "cell_type": "markdown",
   "id": "d0c956c9",
   "metadata": {},
   "source": [
    "### 9 - Analisando os dados históricos, crie uma projeção do total vendas para o mês de mai/2020. Explique como o cálculo foi realizado e quais parâmetros foram levados em consideração para a criação da projeção.\t\t\t\t\t\t\t\t\t\t\t\t\t\n",
    "\t\t\t\t\t\t\t\t\t\t\t\t\t\n"
   ]
  },
  {
   "cell_type": "code",
   "execution_count": null,
   "id": "7930e4b0",
   "metadata": {},
   "outputs": [],
   "source": [
    "mask2 = (df['Status'] == 'Ganho')\n",
    "ganhosCount=df.loc[mask2].groupby(pd.Grouper(key='Data Fechamento',freq='1M')).count()\n",
    "plt.figure(figsize=(12,4))\n",
    "ganhosCount['Status'].plot.line()"
   ]
  },
  {
   "cell_type": "code",
   "execution_count": null,
   "id": "44a73681",
   "metadata": {},
   "outputs": [],
   "source": [
    "import pmdarima as pm\n",
    "from statsmodels.tsa.arima_model import ARIMA"
   ]
  },
  {
   "cell_type": "code",
   "execution_count": null,
   "id": "de7e6751",
   "metadata": {},
   "outputs": [],
   "source": [
    "model = pm.auto_arima(ganhosCount['Status'], start_p=1, start_q=1,\n",
    "                      test='adf',       # use adftest to find optimal 'd'\n",
    "                      max_p=3, max_q=3, # maximum p and q\n",
    "                      m=1,              # frequency of series\n",
    "                      d=None,           # let model determine 'd'\n",
    "                      seasonal=False,   # No Seasonality\n",
    "                      start_P=0, \n",
    "                      D=0, \n",
    "                      trace=True,\n",
    "                      error_action='ignore',  \n",
    "                      suppress_warnings=True, \n",
    "                      stepwise=True)"
   ]
  },
  {
   "cell_type": "code",
   "execution_count": null,
   "id": "a2b1b7bf",
   "metadata": {},
   "outputs": [],
   "source": [
    "model.plot_diagnostics(figsize=(7,5))\n",
    "plt.show()"
   ]
  },
  {
   "cell_type": "code",
   "execution_count": null,
   "id": "3330eb7f",
   "metadata": {},
   "outputs": [],
   "source": [
    "# Forecast\n",
    "n_periods = 6\n",
    "fc, confint = model.predict(n_periods=n_periods, return_conf_int=True)\n",
    "index_of_fc = np.arange(len(ganhosCount['Status']), len(ganhosCount['Status'])+n_periods)\n",
    "\n",
    "# Series for plot\n",
    "fc_series = pd.Series(fc, index=index_of_fc)\n",
    "lower_series = pd.Series(confint[:, 0], index=index_of_fc)\n",
    "upper_series = pd.Series(confint[:, 1], index=index_of_fc)"
   ]
  },
  {
   "cell_type": "code",
   "execution_count": null,
   "id": "271f9aac",
   "metadata": {},
   "outputs": [],
   "source": [
    "# Plot\n",
    "plt.plot(ganhosCount['Status'].values)\n",
    "plt.plot(fc_series, color='darkgreen')\n",
    "plt.fill_between(lower_series.index, \n",
    "                 lower_series, \n",
    "                 upper_series, \n",
    "                 color='k', alpha=.15)\n",
    "\n",
    "plt.title(\"Forecast\")\n",
    "plt.show()"
   ]
  }
 ],
 "metadata": {
  "interpreter": {
   "hash": "3d86adfb6bd35c5260e474f631bbf002f1a2f75a3f4602739dc597cff0f8e384"
  },
  "kernelspec": {
   "display_name": "Python 3.9.7 64-bit ('base': conda)",
   "name": "python3"
  },
  "language_info": {
   "codemirror_mode": {
    "name": "ipython",
    "version": 3
   },
   "file_extension": ".py",
   "mimetype": "text/x-python",
   "name": "python",
   "nbconvert_exporter": "python",
   "pygments_lexer": "ipython3",
   "version": "3.9.7"
  }
 },
 "nbformat": 4,
 "nbformat_minor": 5
}
